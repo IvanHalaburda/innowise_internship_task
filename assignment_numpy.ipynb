{
 "cells": [
  {
   "cell_type": "markdown",
   "id": "d3df79dd",
   "metadata": {},
   "source": [
    "## Упражнения по библиотеке Numpy"
   ]
  },
  {
   "cell_type": "code",
   "execution_count": 1,
   "id": "76b9c43b",
   "metadata": {},
   "outputs": [],
   "source": [
    "import numpy as np\n",
    "import numpy.random as rand\n",
    "import time\n",
    "import scipy.spatial.distance"
   ]
  },
  {
   "cell_type": "markdown",
   "id": "03727b7c",
   "metadata": {},
   "source": [
    "**1.** Дан случайный массив, поменять знак у элементов, значения которых между 3 и 8"
   ]
  },
  {
   "cell_type": "code",
   "execution_count": 2,
   "id": "b89a7523",
   "metadata": {},
   "outputs": [
    {
     "name": "stdout",
     "output_type": "stream",
     "text": [
      "Массив до замены\n",
      "[3 8 0 5 8 2 4 7 3 4]\n",
      "Массив после замены\n",
      "[ 3  8  0 -5  8  2 -4 -7  3 -4]\n"
     ]
    }
   ],
   "source": [
    "a = np.random.randint(10, size=(10))\n",
    "print(\"Массив до замены\")\n",
    "print(a)\n",
    "for i in range(len(a)):\n",
    "    if a[i] > 3 and a[i] < 8:\n",
    "        a[i] *= -1\n",
    "\n",
    "print(\"Массив после замены\")\n",
    "print(a)"
   ]
  },
  {
   "cell_type": "markdown",
   "id": "5fa4abda",
   "metadata": {},
   "source": [
    "**2.** Заменить максимальный элемент случайного массива на 0"
   ]
  },
  {
   "cell_type": "code",
   "execution_count": 3,
   "id": "f2788a6e",
   "metadata": {},
   "outputs": [
    {
     "name": "stdout",
     "output_type": "stream",
     "text": [
      "массив до замены [99 32 22 67 59 66  9 42 10 73]\n",
      "массив после замены [ 0 32 22 67 59 66  9 42 10 73]\n"
     ]
    }
   ],
   "source": [
    "a = np.random.randint(100, size=(10))\n",
    "print(f\"массив до замены {a}\")\n",
    "a[np.argmax(a)] = 0\n",
    "print(f\"массив после замены {a}\")"
   ]
  },
  {
   "cell_type": "markdown",
   "id": "3cac656b",
   "metadata": {},
   "source": [
    "**3.** Построить прямое произведение массивов (все комбинации с каждым элементом). На вход подается двумерный массив"
   ]
  },
  {
   "cell_type": "code",
   "execution_count": 4,
   "id": "3396b764",
   "metadata": {},
   "outputs": [
    {
     "name": "stdout",
     "output_type": "stream",
     "text": [
      "14 15 16 17 18 19 110 111 112 \n",
      "24 25 26 27 28 29 210 211 212 \n",
      "34 35 36 37 38 39 310 311 312 \n",
      "44 45 46 47 48 49 410 411 412 \n"
     ]
    }
   ],
   "source": [
    "b = np.array([[1, 2, 3], [4, 5, 6], [7,8,9], [10,11,12]])\n",
    "a=b.flatten()\n",
    "rows, cols = b.shape\n",
    "for i in range(rows):\n",
    "    for t in range(len(b[0]), len(a)):\n",
    "        print(f\"{a[i]}{a[t]} \", end=\"\")\n",
    "    print()"
   ]
  },
  {
   "cell_type": "markdown",
   "id": "674c9354",
   "metadata": {},
   "source": [
    "**4.** Даны 2 массива A (8x3) и B (2x2). Найти строки в A, которые содержат элементы из каждой строки в B, независимо от порядка элементов в B"
   ]
  },
  {
   "cell_type": "code",
   "execution_count": 5,
   "id": "cb664782",
   "metadata": {},
   "outputs": [
    {
     "name": "stdout",
     "output_type": "stream",
     "text": [
      "[[5 0 6]\n",
      " [4 2 4]\n",
      " [1 1 1]\n",
      " [1 0 3]\n",
      " [0 1 8]\n",
      " [5 1 1]\n",
      " [6 7 1]\n",
      " [1 3 5]]\n",
      "\n",
      "[[2 3]\n",
      " [5 0]]\n",
      "podhodit stroka [1 0 3]\n",
      "podhodit stroka [1 3 5]\n"
     ]
    }
   ],
   "source": [
    "#элементы из каждой строки в B значит хотя бы один элемент из каждой строки?\n",
    "a = np.random.randint(10, size=(24)).reshape((8,3))\n",
    "b = np.random.randint(10,size=(4)).reshape((2,2))\n",
    "print(a)\n",
    "print()\n",
    "print(b)\n",
    "for i in a:\n",
    "    str_1 = False\n",
    "    str_2 = False\n",
    "    for j in i:\n",
    "        if j in b[0]:\n",
    "            str_1 = True\n",
    "        if j in b[1]:\n",
    "            str_2 = True\n",
    "    if str_1 and str_2:\n",
    "        print(f\"podhodit stroka {i}\")"
   ]
  },
  {
   "cell_type": "markdown",
   "id": "fa46533b",
   "metadata": {},
   "source": [
    "**5.** Дана 10x3 матрица, найти строки из неравных значений (например строка [2,2,3] остается, строка [3,3,3] удаляется)"
   ]
  },
  {
   "cell_type": "code",
   "execution_count": 6,
   "id": "fa545b23",
   "metadata": {},
   "outputs": [
    {
     "name": "stdout",
     "output_type": "stream",
     "text": [
      "[[5 4 1]\n",
      " [1 0 6]\n",
      " [1 6 6]\n",
      " [1 1 1]\n",
      " [8 6 0]\n",
      " [2 9 5]\n",
      " [5 3 1]\n",
      " [0 0 0]\n",
      " [0 4 1]\n",
      " [2 2 2]]\n"
     ]
    },
    {
     "data": {
      "text/plain": [
       "array([[5, 4, 1],\n",
       "       [1, 0, 6],\n",
       "       [1, 6, 6],\n",
       "       [8, 6, 0],\n",
       "       [2, 9, 5],\n",
       "       [5, 3, 1],\n",
       "       [0, 4, 1]])"
      ]
     },
     "execution_count": 6,
     "metadata": {},
     "output_type": "execute_result"
    }
   ],
   "source": [
    "a = np.random.randint(10, size=(30)).reshape((10,3))\n",
    "a[3] = np.array([1,1,1])\n",
    "a[7] = np.array([0,0,0])\n",
    "udal = []\n",
    "print(a)\n",
    "for i,k in enumerate(a):\n",
    "    if k[0]==k[1] and k[1]==k[2]:\n",
    "        udal.append(i)\n",
    "for i in udal[::-1]:\n",
    "    a = np.delete(a,i, axis = 0)\n",
    "a"
   ]
  },
  {
   "cell_type": "markdown",
   "id": "28f0d116",
   "metadata": {},
   "source": [
    "**6.** Дан двумерный массив. Удалить те строки, которые повторяются"
   ]
  },
  {
   "cell_type": "code",
   "execution_count": 7,
   "id": "83d2c0b7",
   "metadata": {},
   "outputs": [
    {
     "name": "stdout",
     "output_type": "stream",
     "text": [
      "[[1 2 3 4]\n",
      " [1 2 3 4]\n",
      " [6 7 8 9]\n",
      " [1 2 3 4]\n",
      " [1 2 3 4]\n",
      " [3 3 3 3]\n",
      " [4 4 4 4]\n",
      " [3 3 3 3]\n",
      " [4 4 4 4]]\n"
     ]
    },
    {
     "data": {
      "text/plain": [
       "array([[1, 2, 3, 4],\n",
       "       [6, 7, 8, 9],\n",
       "       [3, 3, 3, 3],\n",
       "       [4, 4, 4, 4]])"
      ]
     },
     "execution_count": 7,
     "metadata": {},
     "output_type": "execute_result"
    }
   ],
   "source": [
    "a = np.array([[1,2,3,4],[1,2,3,4],[6,7,8,9],[1,2,3,4],[1,2,3,4],[3,3,3,3],[4,4,4,4],[3,3,3,3],[4,4,4,4]])\n",
    "udal = []\n",
    "k = 1\n",
    "print(a)\n",
    "rows, cols = a.shape\n",
    "for i in a:\n",
    "    for j in range (k,rows):\n",
    "        if (i == a[j] ).all() and j not in udal:\n",
    "            udal.append(j)\n",
    "    k +=1 \n",
    "for i in udal[::-1]:\n",
    "    a = np.delete(a,i, axis = 0)\n",
    "a"
   ]
  },
  {
   "cell_type": "markdown",
   "id": "6daa9e37",
   "metadata": {},
   "source": [
    "______\n",
    "______"
   ]
  },
  {
   "cell_type": "markdown",
   "id": "cfbfcaff",
   "metadata": {},
   "source": [
    "Для каждой из следующих задач (1-5) нужно привести 2 реализации – одна без использования numpy (cчитайте, что там, где на входе или выходе должны быть numpy array, будут просто списки), а вторая полностью векторизованная с использованием numpy (без использования питоновских циклов/map/list comprehension).\n",
    "\n",
    "\n",
    "__Замечание 1.__ Можно считать, что все указанные объекты непустые (к примеру, в __задаче 1__ на диагонали матрицы есть ненулевые элементы).\n",
    "\n",
    "__Замечание 2.__ Для большинства задач решение занимает не больше 1-2 строк."
   ]
  },
  {
   "cell_type": "markdown",
   "id": "673cac7f",
   "metadata": {},
   "source": [
    "___"
   ]
  },
  {
   "cell_type": "markdown",
   "id": "ca6f585e",
   "metadata": {},
   "source": [
    "* __Задача 1__: Подсчитать произведение ненулевых элементов на диагонали прямоугольной матрицы.  \n",
    " Например, для X = np.array([[1, 0, 1], [2, 0, 2], [3, 0, 3], [4, 4, 4]]) ответ 3."
   ]
  },
  {
   "cell_type": "code",
   "execution_count": 8,
   "id": "065862fc",
   "metadata": {
    "scrolled": true
   },
   "outputs": [
    {
     "name": "stdout",
     "output_type": "stream",
     "text": [
      "3\n"
     ]
    }
   ],
   "source": [
    "matrix = [[1, 0, 1], [2, 0, 2], [3, 0, 3], [4, 4, 4]]\n",
    "pr = 1\n",
    "for i in range(len(matrix[0])):\n",
    "    if matrix[i][i]!=0:\n",
    "        pr *= matrix[i][i]\n",
    "print(pr)\n"
   ]
  },
  {
   "cell_type": "code",
   "execution_count": 9,
   "id": "09f9c0cf",
   "metadata": {},
   "outputs": [
    {
     "data": {
      "text/plain": [
       "3"
      ]
     },
     "execution_count": 9,
     "metadata": {},
     "output_type": "execute_result"
    }
   ],
   "source": [
    "X = np.array([[1, 0, 1], [2, 0, 2], [3, 0, 3], [4, 4, 4]])\n",
    "np.prod(np.diagonal(X)[np.diagonal(X)[:]>0])"
   ]
  },
  {
   "cell_type": "markdown",
   "id": "9fc51d41",
   "metadata": {},
   "source": [
    "* __Задача 2__: Даны два вектора x и y. Проверить, задают ли они одно и то же мультимножество.  \n",
    "  Например, для x = np.array([1, 2, 2, 4]), y = np.array([4, 2, 1, 2]) ответ True."
   ]
  },
  {
   "cell_type": "code",
   "execution_count": 10,
   "id": "a809e02f",
   "metadata": {},
   "outputs": [
    {
     "name": "stdout",
     "output_type": "stream",
     "text": [
      "True\n"
     ]
    }
   ],
   "source": [
    "x = [1,2,2,4]\n",
    "y = [4,2,1,2]\n",
    "x.sort()\n",
    "y.sort()\n",
    "b = True\n",
    "if len(x) == len(y):\n",
    "    for i in range(len(x)):\n",
    "        if x[i]!=y[i]:\n",
    "            b = False\n",
    "else:\n",
    "    b =  False\n",
    "print(b)"
   ]
  },
  {
   "cell_type": "code",
   "execution_count": 11,
   "id": "93770d63",
   "metadata": {},
   "outputs": [
    {
     "name": "stdout",
     "output_type": "stream",
     "text": [
      "True\n"
     ]
    }
   ],
   "source": [
    "x = np.array([1, 2, 2, 4])\n",
    "y = np.array([4, 2, 1, 2])\n",
    "print(True if np.array_equal(np.sort(x),np.sort(y)) else False)"
   ]
  },
  {
   "cell_type": "markdown",
   "id": "b9c185c7",
   "metadata": {},
   "source": [
    "* __Задача 3__: Найти максимальный элемент в векторе x среди элементов, перед которыми стоит ноль. \n",
    " Например, для x = np.array([6, 2, 0, 3, 0, 0, 5, 7, 0]) ответ 5."
   ]
  },
  {
   "cell_type": "code",
   "execution_count": 12,
   "id": "b57df008",
   "metadata": {},
   "outputs": [
    {
     "name": "stdout",
     "output_type": "stream",
     "text": [
      "5\n"
     ]
    }
   ],
   "source": [
    "x = [6, 2, 0, 3, 0, 0, 5, 7, 0]\n",
    "max = min(x)\n",
    "for i in range(1, len(x)):\n",
    "    if x[i-1] == 0 and x[i]> max:\n",
    "        max = x[i]\n",
    "print(max)"
   ]
  },
  {
   "cell_type": "code",
   "execution_count": 13,
   "id": "c684ef87",
   "metadata": {},
   "outputs": [
    {
     "name": "stdout",
     "output_type": "stream",
     "text": [
      "5\n"
     ]
    }
   ],
   "source": [
    "x = np.array([6, 2, 0, 3, 0, 0, 5, 7, 0])\n",
    "y = np.where(x == 0)\n",
    "print(x[1:][y[0][:-1]].max())"
   ]
  },
  {
   "cell_type": "markdown",
   "id": "480be4ce",
   "metadata": {},
   "source": [
    "* __Задача 4__: Реализовать кодирование длин серий (Run-length encoding). Для некоторого вектора x необходимо вернуть кортеж из двух векторов одинаковой длины. Первый содержит числа, а второй - сколько раз их нужно повторить.  \n",
    " Например, для x = np.array([2, 2, 2, 3, 3, 3, 5]) ответ (np.array([2, 3, 5]), np.array([3, 3, 1]))."
   ]
  },
  {
   "cell_type": "code",
   "execution_count": 14,
   "id": "3c592124",
   "metadata": {},
   "outputs": [
    {
     "name": "stdout",
     "output_type": "stream",
     "text": [
      "[2, 3, 5]\n",
      "[3, 3, 1]\n"
     ]
    }
   ],
   "source": [
    "x = [2,2,2,3,3,3,5]\n",
    "elements = []\n",
    "for i in x:\n",
    "    if i not in elements:\n",
    "        elements.append(i)\n",
    "print(elements)\n",
    "ammount = [0 for i in range(len(elements))]\n",
    "for i in range(len(elements)):\n",
    "    for j in x:\n",
    "        if elements[i] == j:\n",
    "            ammount[i] +=1\n",
    "print(ammount)"
   ]
  },
  {
   "cell_type": "code",
   "execution_count": 15,
   "id": "80a97c63",
   "metadata": {},
   "outputs": [
    {
     "name": "stdout",
     "output_type": "stream",
     "text": [
      "[2 3 5] [3 3 1]\n"
     ]
    }
   ],
   "source": [
    "x = np.array([2, 2, 2, 3, 3, 3, 5])\n",
    "uniq,counts = np.unique(x, return_counts=True)\n",
    "print(uniq,counts)"
   ]
  },
  {
   "cell_type": "markdown",
   "id": "077532ec",
   "metadata": {},
   "source": [
    "* __Задача 5__: Даны две выборки объектов - X и Y. Вычислить матрицу евклидовых расстояний между объектами. Сравните с функцией scipy.spatial.distance.cdist по скорости работы."
   ]
  },
  {
   "cell_type": "code",
   "execution_count": 16,
   "id": "1e807797",
   "metadata": {},
   "outputs": [
    {
     "name": "stdout",
     "output_type": "stream",
     "text": [
      "5.196152422706632\n",
      "0.0010035037994384766\n"
     ]
    }
   ],
   "source": [
    "x = [0,0,0]\n",
    "y = [3,3,3]\n",
    "rasst = 0\n",
    "start_time = time.time()\n",
    "for i in range(3):\n",
    "    rasst += ((y[i]-x[i])**2)\n",
    "print(float(rasst**0.5))\n",
    "print(time.time() - start_time)\n"
   ]
  },
  {
   "cell_type": "code",
   "execution_count": 17,
   "id": "f5da3e32",
   "metadata": {},
   "outputs": [
    {
     "name": "stdout",
     "output_type": "stream",
     "text": [
      "5.196152422706632\n",
      "0.0\n"
     ]
    }
   ],
   "source": [
    "x = np.array([0,0,0])\n",
    "y = np.array([3,3,3])\n",
    "start_time = time.time()\n",
    "razn = np.square(y - x)\n",
    "print(np.sqrt(np.sum(razn)))\n",
    "print(time.time() - start_time)"
   ]
  },
  {
   "cell_type": "code",
   "execution_count": 18,
   "id": "8146a50a",
   "metadata": {},
   "outputs": [
    {
     "name": "stdout",
     "output_type": "stream",
     "text": [
      "[[5.19615242]]\n",
      "0.0\n"
     ]
    }
   ],
   "source": [
    "x = np.array([[0,0,0]])\n",
    "y = np.array([[3,3,3]])\n",
    "start_time = time.time()\n",
    "print(scipy.spatial.distance.cdist(x, y))\n",
    "print(time.time() - start_time)"
   ]
  },
  {
   "cell_type": "markdown",
   "id": "973e8064",
   "metadata": {},
   "source": [
    "_______\n",
    "________"
   ]
  },
  {
   "cell_type": "markdown",
   "id": "1104acb7",
   "metadata": {},
   "source": [
    "* #### __Задача 6__: CrunchieMunchies __*__\n",
    "\n",
    "Вы работаете в отделе маркетинга пищевой компании MyCrunch, которая разрабатывает новый вид вкусных, полезных злаков под названием **CrunchieMunchies**.\n",
    "\n",
    "Вы хотите продемонстрировать потребителям, насколько полезны ваши хлопья по сравнению с другими ведущими брендами, поэтому вы собрали данные о питании нескольких разных конкурентов.\n",
    "\n",
    "Ваша задача - использовать вычисления Numpy для анализа этих данных и доказать, что ваши **СrunchieMunchies** - самый здоровый выбор для потребителей.\n"
   ]
  },
  {
   "cell_type": "code",
   "execution_count": 19,
   "id": "10a77f8d",
   "metadata": {},
   "outputs": [],
   "source": [
    "import numpy as np"
   ]
  },
  {
   "cell_type": "markdown",
   "id": "ab87cb03",
   "metadata": {},
   "source": [
    "1. Просмотрите файл cereal.csv. Этот файл содержит количества калорий для различных марок хлопьев. Загрузите данные из файла и сохраните их как calorie_stats."
   ]
  },
  {
   "cell_type": "code",
   "execution_count": 20,
   "id": "9681ebf2",
   "metadata": {},
   "outputs": [
    {
     "data": {
      "text/plain": [
       "array([ 70., 120.,  70.,  50., 110., 110., 110., 130.,  90.,  90., 120.,\n",
       "       110., 120., 110., 110., 110., 100., 110., 110., 110., 100., 110.,\n",
       "       100., 100., 110., 110., 100., 120., 120., 110., 100., 110., 100.,\n",
       "       110., 120., 120., 110., 110., 110., 140., 110., 100., 110., 100.,\n",
       "       150., 150., 160., 100., 120., 140.,  90., 130., 120., 100.,  50.,\n",
       "        50., 100., 100., 120., 100.,  90., 110., 110.,  80.,  90.,  90.,\n",
       "       110., 110.,  90., 110., 140., 100., 110., 110., 100., 100., 110.])"
      ]
     },
     "execution_count": 20,
     "metadata": {},
     "output_type": "execute_result"
    }
   ],
   "source": [
    "calorie_stats = np.loadtxt(\"./data/cereal.csv\", delimiter=\",\")\n",
    "calorie_stats"
   ]
  },
  {
   "cell_type": "markdown",
   "id": "139cfbd8",
   "metadata": {},
   "source": [
    "2. В одной порции CrunchieMunchies содержится 60 калорий. Насколько выше среднее количество калорий у ваших конкурентов?\n",
    "\n",
    "Сохраните ответ в переменной average_calories и распечатайте переменную в терминале"
   ]
  },
  {
   "cell_type": "code",
   "execution_count": 21,
   "id": "7036d240",
   "metadata": {},
   "outputs": [
    {
     "data": {
      "text/plain": [
       "106.88311688311688"
      ]
     },
     "execution_count": 21,
     "metadata": {},
     "output_type": "execute_result"
    }
   ],
   "source": [
    "average_calories = np.average(calorie_stats)\n",
    "average_calories"
   ]
  },
  {
   "cell_type": "markdown",
   "id": "b2ddb4cd",
   "metadata": {},
   "source": [
    "3. Корректно ли среднее количество калорий отражает распределение набора данных? Давайте отсортируем данные и посмотрим.\n",
    "\n",
    "Отсортируйте данные и сохраните результат в переменной calorie_stats_sorted. Распечатайте отсортированную информацию"
   ]
  },
  {
   "cell_type": "code",
   "execution_count": 22,
   "id": "46eeb4ed",
   "metadata": {},
   "outputs": [
    {
     "data": {
      "text/plain": [
       "array([ 50.,  50.,  50.,  70.,  70.,  80.,  90.,  90.,  90.,  90.,  90.,\n",
       "        90.,  90., 100., 100., 100., 100., 100., 100., 100., 100., 100.,\n",
       "       100., 100., 100., 100., 100., 100., 100., 100., 110., 110., 110.,\n",
       "       110., 110., 110., 110., 110., 110., 110., 110., 110., 110., 110.,\n",
       "       110., 110., 110., 110., 110., 110., 110., 110., 110., 110., 110.,\n",
       "       110., 110., 110., 110., 120., 120., 120., 120., 120., 120., 120.,\n",
       "       120., 120., 120., 130., 130., 140., 140., 140., 150., 150., 160.])"
      ]
     },
     "execution_count": 22,
     "metadata": {},
     "output_type": "execute_result"
    }
   ],
   "source": [
    "calories_stats_sorted = np.sort(calorie_stats)\n",
    "calories_stats_sorted"
   ]
  },
  {
   "cell_type": "markdown",
   "id": "4dc74116",
   "metadata": {},
   "source": [
    "4. Похоже, что большинство значений выше среднего. Давайте посмотрим, является ли медиана наиболее корректным показателем набора данных.\n",
    "\n",
    "Вычислите медиану набора данных и сохраните свой ответ в median_calories. Выведите медиану, чтобы вы могли видеть, как она сравнивается со средним значением."
   ]
  },
  {
   "cell_type": "code",
   "execution_count": 23,
   "id": "b56627c3",
   "metadata": {},
   "outputs": [
    {
     "data": {
      "text/plain": [
       "110.0"
      ]
     },
     "execution_count": 23,
     "metadata": {},
     "output_type": "execute_result"
    }
   ],
   "source": [
    "median_calories = np.median(calories_stats_sorted)\n",
    "median_calories"
   ]
  },
  {
   "cell_type": "markdown",
   "id": "a63ab72f",
   "metadata": {},
   "source": [
    "5. В то время как медиана показывает, что по крайней мере половина наших значений составляет более 100 калорий, было бы более впечатляюще показать, что значительная часть конкурентов имеет более высокое количество калорий, чем CrunchieMunchies.\n",
    "\n",
    "Рассчитайте различные процентили и распечатайте их, пока не найдете наименьший процентиль, превышающий 60 калорий. Сохраните это значение в переменной nth_percentile."
   ]
  },
  {
   "cell_type": "code",
   "execution_count": 24,
   "id": "fe80ce03",
   "metadata": {},
   "outputs": [
    {
     "name": "stdout",
     "output_type": "stream",
     "text": [
      "при процентиле 10 калории равны 90\n",
      "при процентиле 20 калории равны 100\n",
      "при процентиле 30 калории равны 100\n",
      "при процентиле 40 калории равны 110\n",
      "при процентиле 50 калории равны 110\n",
      "при процентиле 60 калории равны 110\n",
      "при процентиле 70 калории равны 110\n",
      "при процентиле 80 калории равны 120\n",
      "при процентиле 90 калории равны 124\n",
      "при процентиле 100 калории равны 160\n",
      "4\n"
     ]
    }
   ],
   "source": [
    "nth_percentile = 0\n",
    "b = True\n",
    "for i in range(1,101):\n",
    "    if b:\n",
    "        nth_percentile = i\n",
    "        if np.percentile(calories_stats_sorted, i) > 60:\n",
    "            b = False\n",
    "    if i %10 == 0:\n",
    "        print(f\"при процентиле {i} калории равны {int(np.percentile(calories_stats_sorted, i))}\")\n",
    "\n",
    "print(nth_percentile)"
   ]
  },
  {
   "cell_type": "markdown",
   "id": "a2a3c5aa",
   "metadata": {},
   "source": [
    "6. Хотя процентиль показывает нам, что у большинства конкурентов количество калорий намного выше, это неудобная концепция для использования в маркетинговых материалах.\n",
    "\n",
    "Вместо этого давайте подсчитаем процент хлопьев, в которых содержится более 60 калорий на порцию. Сохраните свой ответ в переменной more_calories и распечатайте его"
   ]
  },
  {
   "cell_type": "code",
   "execution_count": 25,
   "id": "ade0f6ea",
   "metadata": {
    "scrolled": true
   },
   "outputs": [
    {
     "name": "stdout",
     "output_type": "stream",
     "text": [
      "96.1038961038961 %\n"
     ]
    }
   ],
   "source": [
    "position = 0\n",
    "for i,k in enumerate(calories_stats_sorted):\n",
    "    if k >60 :\n",
    "        position = i\n",
    "        break\n",
    "more_calories = len(calories_stats_sorted[i:])/len(calories_stats_sorted)\n",
    "print(more_calories*100, '%')"
   ]
  },
  {
   "cell_type": "markdown",
   "id": "1735d65b",
   "metadata": {},
   "source": [
    "7. Это действительно высокий процент. Это будет очень полезно, когда мы будем продвигать CrunchieMunchies. Но один вопрос заключается в том, насколько велики различия в наборе данных? Можем ли мы сделать обобщение, что в большинстве злаков содержится около 100 калорий или разброс еще больше?\n",
    "\n",
    "Рассчитайте величину отклонения, найдя стандартное отклонение, Сохраните свой ответ в calorie_std и распечатайте на терминале. Как мы можем включить эту ценность в наш анализ?"
   ]
  },
  {
   "cell_type": "code",
   "execution_count": 26,
   "id": "8a1b239b",
   "metadata": {},
   "outputs": [
    {
     "name": "stdout",
     "output_type": "stream",
     "text": [
      "19.35718533390827\n"
     ]
    }
   ],
   "source": [
    "calorie_std = np.std(calories_stats_sorted)\n",
    "print(calorie_std)"
   ]
  },
  {
   "cell_type": "markdown",
   "id": "9574643f",
   "metadata": {},
   "source": [
    "Эта величина показывет, что низкая калорийность хлопьев не просто небольшое отклонение от средней, а то, чем компания может гордиться"
   ]
  },
  {
   "cell_type": "markdown",
   "id": "037455c5",
   "metadata": {},
   "source": [
    "8. Напишите короткий абзац, в котором кратко изложите свои выводы и то, как, по вашему мнению, эти данные могут быть использованы в интересах Mycrunch при маркетинге CrunchieMunchies."
   ]
  },
  {
   "cell_type": "markdown",
   "id": "9095fc62",
   "metadata": {},
   "source": [
    "Я считаю, что компании стоит сделать упор на низкую калорийность своих хлопьев, так как полученные данные демонстрируют\n",
    "уверенное превосходство хлопьев CrunchieMunchies на поприще еды низкой калорийности по сравнению с конкурентами."
   ]
  }
 ],
 "metadata": {
  "interpreter": {
   "hash": "fb7ae764543fdaed36d8895c927e8854d7ec77daa1a8537d1c49aa4b19322b31"
  },
  "kernelspec": {
   "display_name": "Python 3 (ipykernel)",
   "language": "python",
   "name": "python3"
  },
  "language_info": {
   "codemirror_mode": {
    "name": "ipython",
    "version": 3
   },
   "file_extension": ".py",
   "mimetype": "text/x-python",
   "name": "python",
   "nbconvert_exporter": "python",
   "pygments_lexer": "ipython3",
   "version": "3.10.4"
  }
 },
 "nbformat": 4,
 "nbformat_minor": 5
}
